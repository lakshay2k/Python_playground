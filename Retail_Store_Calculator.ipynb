{
 "cells": [
  {
   "cell_type": "code",
   "execution_count": 1,
   "metadata": {},
   "outputs": [],
   "source": [
    "# write a python program to keep adding the stream of input prices untill user enter q "
    
   ]
  },
  {
   "cell_type": "code",
   "execution_count": 3,
   "metadata": {},
   "outputs": [
    {
     "name": "stdout",
     "output_type": "stream",
     "text": [
      "Enter the price or Press q to quit\n",
      "52\n",
      "Enter the item name \n",
      "pizza sauce\n",
      "Order total so far is 52.\n",
      "Enter the price or Press q to quit\n",
      "69\n",
      "Enter the item name \n",
      "pizza bread\n",
      "Order total so far is 121.\n",
      "Enter the price or Press q to quit\n",
      "q\n",
      "Your total bill is 121. \n",
      " Thanks for shopping with us\n",
      "Receipt of items : \n",
      "\n",
      "pizza sauce 52\n",
      "\n",
      "pizza bread 69\n",
      "\n"
     ]
    }
   ],
   "source": [
    "#checking total sum of items purchased",
    "sum = 0\n",
    "receipt = {}\n",
    "while(True):\n",
    "    userInput = input(\"Enter the price or Press q to quit\\n\")\n",
    "    if(userInput != 'q'):\n",
    "        userItem = input(\"Enter the item name \\n\")\n",
    "        sum = sum + int(userInput)\n",
    "        inn = int(userInput)\n",
    "        print(f\"Order total so far is {sum}.\")\n",
    "        receipt[userItem] = userInput\n",
    "        #receipt.append(inn)\n",
    "    else:\n",
    "        print(f\"Your total bill is {sum}. \\n Thanks for shopping with us\")\n",
    "        print(\"Receipt of items : \\n\")\n",
    "        for i in receipt:\n",
    "            print(f\"{i} {receipt[i]}\\n\")\n",
    "        break\n",
    "        "
   ]
  },
  {
   "cell_type": "code",
   "execution_count": null,
   "metadata": {},
   "outputs": [],
   "source": []
  },
  {
   "cell_type": "code",
   "execution_count": null,
   "metadata": {},
   "outputs": [],
   "source": []
  }
 ],
 "metadata": {
  "kernelspec": {
   "display_name": "Python 3",
   "language": "python",
   "name": "python3"
  },
  "language_info": {
   "codemirror_mode": {
    "name": "ipython",
    "version": 3
   },
   "file_extension": ".py",
   "mimetype": "text/x-python",
   "name": "python",
   "nbconvert_exporter": "python",
   "pygments_lexer": "ipython3",
   "version": "3.7.6"
  }
 },
 "nbformat": 4,
 "nbformat_minor": 4
}
