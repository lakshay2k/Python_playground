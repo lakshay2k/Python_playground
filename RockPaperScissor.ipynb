{
 "cells": [
  {
   "cell_type": "code",
   "execution_count": 1,
   "metadata": {},
   "outputs": [
    {
     "name": "stdout",
     "output_type": "stream",
     "text": [
      "\n",
      "\n",
      "*****************Rock, Paper, Scissors - Shoot!*****************\n",
      "\n",
      " Please enter q to quit\n",
      "\n",
      "Choose your weapon [R]ock], [P]aper, or [S]cissors: R\n",
      "You chose: R\n",
      "I chose: P\n",
      "Paper beat rock, I win! \n",
      "\n",
      "\n",
      "*****************Rock, Paper, Scissors - Shoot!*****************\n",
      "\n",
      " Please enter q to quit\n",
      "\n",
      "Choose your weapon [R]ock], [P]aper, or [S]cissors: p\n",
      "You chose: p\n",
      "I chose: P\n",
      "Tie! \n",
      "\n",
      "\n",
      "*****************Rock, Paper, Scissors - Shoot!*****************\n",
      "\n",
      " Please enter q to quit\n",
      "\n",
      "Choose your weapon [R]ock], [P]aper, or [S]cissors: q\n"
     ]
    }
   ],
   "source": [
    "import random\n",
    "import os\n",
    "import re\n",
    "os.system('cls' if os.name=='nt' else 'clear')\n",
    "while (1 < 2):\n",
    "    print(\"\\n\")\n",
    "    print(\"*****************Rock, Paper, Scissors - Shoot!*****************\")\n",
    "    print(\"\\n Please enter q to quit\\n\")\n",
    "    userChoice = input(\"Choose your weapon [R]ock], [P]aper, or [S]cissors: \")\n",
    "    #adding the exit of program\n",
    "    if(userChoice == \"q\"):\n",
    "        break;\n",
    "        \n",
    "    #Checking with lower and upper case of letters\n",
    "    if not re.match(\"[SsRrPp]\", userChoice):\n",
    "        print(\"Please choose a letter:\")\n",
    "        print(\"[R]ock, [S]cissors or [P]aper.\")\n",
    "        continue\n",
    "        \n",
    "    # Displaying the user's choice\n",
    "    print(\"You chose: \" + userChoice)\n",
    "    choices = ['R', 'P', 'S']\n",
    "    \n",
    "    #using random to play the opponent choice\n",
    "    opponentChoice = random.choice(choices)\n",
    "    print(\"I chose: \" + opponentChoice)\n",
    "    \n",
    "    if opponentChoice == userChoice.upper():\n",
    "        print(\"Tie! \")\n",
    "    #if opponenetChoice == str(\"R\") and str.upper(userChoice) == \"P\"\n",
    "    elif opponentChoice == 'R' and userChoice.upper() == 'S':      \n",
    "        print(\"Scissors beats rock, I win! \")\n",
    "        continue\n",
    "    elif opponentChoice == 'S' and userChoice.upper() == 'P':      \n",
    "        print(\"Scissors beats paper! I win! \")\n",
    "        continue\n",
    "    elif opponentChoice == 'P' and userChoice.upper() == 'R':      \n",
    "        print(\"Paper beat rock, I win! \")\n",
    "        continue\n",
    "    else:       \n",
    "        print(\"You win!\")"
   ]
  },
  {
   "cell_type": "code",
   "execution_count": null,
   "metadata": {},
   "outputs": [],
   "source": []
  }
 ],
 "metadata": {
  "kernelspec": {
   "display_name": "Python 3",
   "language": "python",
   "name": "python3"
  },
  "language_info": {
   "codemirror_mode": {
    "name": "ipython",
    "version": 3
   },
   "file_extension": ".py",
   "mimetype": "text/x-python",
   "name": "python",
   "nbconvert_exporter": "python",
   "pygments_lexer": "ipython3",
   "version": "3.7.6"
  }
 },
 "nbformat": 4,
 "nbformat_minor": 4
}
