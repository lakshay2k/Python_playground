{
 "cells": [
  {
   "cell_type": "code",
   "execution_count": 1,
   "metadata": {},
   "outputs": [],
   "source": [
    "# I will be creating the password based on the dynamic input of length of password"
   ]
  },
  {
   "cell_type": "code",
   "execution_count": 10,
   "metadata": {},
   "outputs": [
    {
     "name": "stdout",
     "output_type": "stream",
     "text": [
      "Enter length of your password6\n",
      "Your password is : \n",
      "\n",
      "LY67Ip\n"
     ]
    }
   ],
   "source": [
    "import string\n",
    "import random\n",
    "\n",
    "#creating list of every character, digits or special symbols to add in password\n",
    "lower_aplha = string.ascii_lowercase\n",
    "upper_alpha = string.ascii_uppercase\n",
    "numbers = string.digits\n",
    "special_char = string.punctuation\n",
    "\n",
    "pass_len = int(input(\"Enter length of your password\"))\n",
    "\n",
    "container = []\n",
    "container.extend(list(lower_aplha))\n",
    "container.extend(list(upper_alpha))\n",
    "container.extend(list(numbers))\n",
    "container.extend(list(special_char))\n",
    "\n",
    "random.shuffle(container)\n",
    "\n",
    "print(\"Your password is : \\n\")\n",
    "print(\"\".join(container[0:pass_len]))"
   ]
  },
  {
   "cell_type": "code",
   "execution_count": null,
   "metadata": {},
   "outputs": [],
   "source": []
  }
 ],
 "metadata": {
  "kernelspec": {
   "display_name": "Python 3",
   "language": "python",
   "name": "python3"
  },
  "language_info": {
   "codemirror_mode": {
    "name": "ipython",
    "version": 3
   },
   "file_extension": ".py",
   "mimetype": "text/x-python",
   "name": "python",
   "nbconvert_exporter": "python",
   "pygments_lexer": "ipython3",
   "version": "3.7.6"
  }
 },
 "nbformat": 4,
 "nbformat_minor": 4
}
