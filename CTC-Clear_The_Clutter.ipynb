{
 "cells": [
  {
   "cell_type": "code",
   "execution_count": 7,
   "metadata": {},
   "outputs": [],
   "source": [
    "import os\n",
    "\n",
    "def checkIfExists(folder):\n",
    "    if not os.path.exists(folder):\n",
    "        os.makedirs(folder)\n",
    "\n",
    "def move(folder,files):\n",
    "    for file in files:\n",
    "        os.replace(file,f\"{folder}/{file}\")\n",
    "        \n",
    "files = os.listdir()\n",
    "files.remove(\"CLC-Clear_The_Clutter.ipynb\")\n",
    "files.remove(\".ipynb_checkpoints\")\n",
    "\n",
    "checkIfExists(\"Images\")\n",
    "checkIfExists(\"Documents\")\n",
    "checkIfExists(\"Zip Files\")\n",
    "checkIfExists(\"Others\")\n",
    "    \n",
    "imgExts = [\".png\",\".jpg\",\".jpeg\"]\n",
    "docExts = [\".doc\",\".pdf\",\".docx\",\".xlsx\",\".csv\",\".txt\"]\n",
    "zipExts = [\".jar\",\".zip\"]\n",
    "other = []\n",
    "\n",
    "images = [file for file in files if os.path.splitext(file)[1].lower() in imgExts]\n",
    "docs = [file for file in files if os.path.splitext(file)[1].lower() in docExts]\n",
    "zips = [file for file in files if os.path.splitext(file)[1].lower() in zipExts]\n",
    "\n",
    "for file in files:\n",
    "    a = os.path.splitext(file)[1].lower()\n",
    "    if (a not in imgExts) and (a not in docExts) and (a not in zipExts) and os.path.isfile(file):\n",
    "        other.append(file)\n",
    "\n",
    "move(\"Images\",images)\n",
    "move(\"Documents\",docs)\n",
    "move(\"Zip Files\",zips)\n",
    "move(\"Others\",other)"
   ]
  },
  {
   "cell_type": "code",
   "execution_count": null,
   "metadata": {},
   "outputs": [],
   "source": []
  }
 ],
 "metadata": {
  "kernelspec": {
   "display_name": "Python 3",
   "language": "python",
   "name": "python3"
  },
  "language_info": {
   "codemirror_mode": {
    "name": "ipython",
    "version": 3
   },
   "file_extension": ".py",
   "mimetype": "text/x-python",
   "name": "python",
   "nbconvert_exporter": "python",
   "pygments_lexer": "ipython3",
   "version": "3.7.6"
  }
 },
 "nbformat": 4,
 "nbformat_minor": 4
}
