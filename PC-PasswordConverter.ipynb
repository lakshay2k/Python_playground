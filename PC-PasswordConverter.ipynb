{
 "cells": [
  {
   "cell_type": "code",
   "execution_count": 1,
   "metadata": {},
   "outputs": [],
   "source": [
    "#I am creating a password convertor that will return a more encrypted and secure version of your password"
   ]
  },
  {
   "cell_type": "code",
   "execution_count": 4,
   "metadata": {},
   "outputs": [
    {
     "name": "stdout",
     "output_type": "stream",
     "text": [
      "Enter your Passwordamitsondon\n",
      "Your Secure Password is: Wmi&$0ny0n\n"
     ]
    }
   ],
   "source": [
    "Pass_encrp = (('a','W'),('s','$'),('1','i'),('v','#'),('r','5'),('k','*'),('d','y'),('o','0'),('@','//'),('t','&'))\n",
    "#you can also add your choice in above tuple\n",
    "\n",
    "def convertPassword(password):\n",
    "    for a,b in Pass_encrp:\n",
    "        password = password.replace(a,b)\n",
    "    return password\n",
    "\n",
    "password = input(\"Enter your Password\")\n",
    "password = convertPassword(password)\n",
    "print(f\"Your Secure Password is: {password}\")\n"
   ]
  },
  {
   "cell_type": "code",
   "execution_count": 5,
   "metadata": {},
   "outputs": [],
   "source": [
    "# The idea is simple although can sound of so much help when deciding the password for our social media handles\n",
    "# I have not used any libraries which helped me to brainstorm "
   ]
  },
  {
   "cell_type": "code",
   "execution_count": null,
   "metadata": {},
   "outputs": [],
   "source": []
  }
 ],
 "metadata": {
  "kernelspec": {
   "display_name": "Python 3",
   "language": "python",
   "name": "python3"
  },
  "language_info": {
   "codemirror_mode": {
    "name": "ipython",
    "version": 3
   },
   "file_extension": ".py",
   "mimetype": "text/x-python",
   "name": "python",
   "nbconvert_exporter": "python",
   "pygments_lexer": "ipython3",
   "version": "3.7.6"
  }
 },
 "nbformat": 4,
 "nbformat_minor": 4
}
