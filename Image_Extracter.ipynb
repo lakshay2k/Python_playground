{
 "cells": [
  {
   "cell_type": "code",
   "execution_count": 7,
   "metadata": {},
   "outputs": [
    {
     "name": "stdout",
     "output_type": "stream",
     "text": [
      "Requirement already satisfied: PyMUPDF in c:\\programdata\\anaconda3\\lib\\site-packages (1.18.13)\n",
      "Note: you may need to restart the kernel to use updated packages.\n"
     ]
    }
   ],
   "source": [
    "#install the libraries and PyMuPDF has predefined extraction and save features \n",
    "pip install PyMUPDF"
   ]
  },
  {
   "cell_type": "code",
   "execution_count": 35,
   "metadata": {},
   "outputs": [],
   "source": [
    "#it is a workflow management API\n",
    "import fitz"
   ]
  },
  {
   "cell_type": "code",
   "execution_count": 40,
   "metadata": {},
   "outputs": [],
   "source": [
    "#we are accessing the PDF file from predefined location\n",
    "file = fitz.open(\"C:\\Study Material\\Resume\\Lakshay_Sharma_Resume.pdf\")"
   ]
  },
  {
   "cell_type": "code",
   "execution_count": 46,
   "metadata": {},
   "outputs": [
    {
     "data": {
      "text/plain": [
       "[(25, 0, 336, 350, 8, 'DeviceRGB', '', 'Image25', 'DCTDecode')]"
      ]
     },
     "execution_count": 46,
     "metadata": {},
     "output_type": "execute_result"
    }
   ],
   "source": [
    "#as mentioned the photo is available in the first page of PDF\n",
    "my_resume_photo = file.getPageImageList(0) # so to acess first page we take 0 (zero-indexed)\n",
    "\n",
    "#details of the image is collected in my_resume_photo variable and details are displayed in below output\n",
    "my_resume_photo"
   ]
  },
  {
   "cell_type": "code",
   "execution_count": 47,
   "metadata": {},
   "outputs": [],
   "source": [
    "#now firstly, the image is converted into pixmap and and then we save it into the .jpeg format\n",
    "for img in my_resume_photo:\n",
    "    i1 = img[0]\n",
    "    pix = fitz.Pixmap(file,i1)\n",
    "    saveimage = fitz.Pixmap(fitz.csRGB, pix)\n",
    "    saveimage.save(\"C:\\Study Material\\Resume\\myimage.jpeg\") #location is specified in the same folder"
   ]
  },
  {
   "cell_type": "code",
   "execution_count": null,
   "metadata": {},
   "outputs": [],
   "source": [
    "#thank you"
   ]
  }
 ],
 "metadata": {
  "kernelspec": {
   "display_name": "Python 3",
   "language": "python",
   "name": "python3"
  },
  "language_info": {
   "codemirror_mode": {
    "name": "ipython",
    "version": 3
   },
   "file_extension": ".py",
   "mimetype": "text/x-python",
   "name": "python",
   "nbconvert_exporter": "python",
   "pygments_lexer": "ipython3",
   "version": "3.7.6"
  }
 },
 "nbformat": 4,
 "nbformat_minor": 4
}
