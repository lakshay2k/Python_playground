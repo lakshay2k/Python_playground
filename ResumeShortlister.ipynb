{
 "cells": [
  {
   "cell_type": "code",
   "execution_count": 1,
   "metadata": {},
   "outputs": [],
   "source": [
    "# I am creating a Resume shortlister which checks the PRofile of data science(dynamic input) in the resume"
   ]
  },
  {
   "cell_type": "code",
   "execution_count": 3,
   "metadata": {},
   "outputs": [
    {
     "name": "stdout",
     "output_type": "stream",
     "text": [
      "Enter the profiledata science\n",
      "Detecting profile in curr_data.txt\n",
      "Profile not found in curr_data.txt\n",
      "Detecting profile in Resume.txt\n",
      "Profile found in Resume.txt\n",
      "Detecting profile in Resume2.txt\n",
      "Profile not found in Resume2.txt\n",
      "Detecting profile in text.txt\n",
      "Profile not found in text.txt\n",
      "*********RESUME CHECKER*********\n",
      "Total 1 resume shortlisted according to your profile request\n"
     ]
    }
   ],
   "source": [
    "import os\n",
    "\n",
    "def checkresume(filename,keyword):\n",
    "    with open(filename,\"r\") as f:\n",
    "        file_contents = f.read()\n",
    "        \n",
    "        if keyword in file_contents.lower():\n",
    "            return True\n",
    "        else:\n",
    "            return False\n",
    "        \n",
    "count=0\n",
    "keyword = input(\"Enter the profile\")\n",
    "dir_contents = os.listdir()\n",
    "for item in dir_contents:\n",
    "    if item.endswith(\".txt\"):\n",
    "        print(f\"Detecting profile in {item}\")\n",
    "        flag = checkresume(item,keyword)\n",
    "        if(flag):\n",
    "            print(f\"Profile found in {item}\")\n",
    "            count+=1\n",
    "        else:\n",
    "            print(f\"Profile not found in {item}\")\n",
    "print(\"*********RESUME CHECKER*********\")\n",
    "print(f\"Total {count} resume shortlisted according to your profile request\")\n",
    "        "
   ]
  },
  {
   "cell_type": "code",
   "execution_count": null,
   "metadata": {},
   "outputs": [],
   "source": [
    "# it can be useful for companies and HR to shorlist the resume based on profile and make their work easy"
   ]
  }
 ],
 "metadata": {
  "kernelspec": {
   "display_name": "Python 3",
   "language": "python",
   "name": "python3"
  },
  "language_info": {
   "codemirror_mode": {
    "name": "ipython",
    "version": 3
   },
   "file_extension": ".py",
   "mimetype": "text/x-python",
   "name": "python",
   "nbconvert_exporter": "python",
   "pygments_lexer": "ipython3",
   "version": "3.7.6"
  }
 },
 "nbformat": 4,
 "nbformat_minor": 4
}
