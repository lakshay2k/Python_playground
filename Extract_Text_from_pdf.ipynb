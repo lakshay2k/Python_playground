{
 "cells": [
  {
   "cell_type": "code",
   "execution_count": 2,
   "metadata": {},
   "outputs": [
    {
     "name": "stdout",
     "output_type": "stream",
     "text": [
      "Requirement already satisfied: pyPDF2 in c:\\programdata\\anaconda3\\lib\\site-packages (1.26.0)\n",
      "Note: you may need to restart the kernel to use updated packages.\n"
     ]
    }
   ],
   "source": [
    "pip install pyPDF2"
   ]
  },
  {
   "cell_type": "code",
   "execution_count": 9,
   "metadata": {},
   "outputs": [
    {
     "name": "stdout",
     "output_type": "stream",
     "text": [
      "The Document details : \n",
      "\n",
      "{'/Title': 'Machine Learning', '/Author': 'nazli', '/CreationDate': \"D:20210125212118+05'30'\", '/ModDate': \"D:20210125212118+05'30'\", '/Producer': 'Microsoft® PowerPoint® 2016', '/Creator': 'Microsoft® PowerPoint® 2016'}\n",
      "The pages are : \n",
      "69\n"
     ]
    }
   ],
   "source": [
    "import PyPDF2\n",
    "a = PyPDF2.PdfFileReader(\"ML2401.ppt.pdf\")\n",
    "print(\"The Document details : \\n\")\n",
    "print(a.documentInfo)\n",
    "print(\"The pages are : \")\n",
    "print(a.getNumPages())\n",
    "str=\"\"\n",
    "for i in range(1,11):\n",
    "    str += a.getPage(i).extractText()\n",
    "    \n",
    "with open(\"text.txt\",\"w\",encoding ='utf-8') as f:\n",
    "    f.write(str)"
   ]
  },
  {
   "cell_type": "code",
   "execution_count": 10,
   "metadata": {},
   "outputs": [],
   "source": [
    "#I created a program that extractes the text from PDF and creates an Text file"
   ]
  },
  {
   "cell_type": "code",
   "execution_count": null,
   "metadata": {},
   "outputs": [],
   "source": []
  }
 ],
 "metadata": {
  "kernelspec": {
   "display_name": "Python 3",
   "language": "python",
   "name": "python3"
  },
  "language_info": {
   "codemirror_mode": {
    "name": "ipython",
    "version": 3
   },
   "file_extension": ".py",
   "mimetype": "text/x-python",
   "name": "python",
   "nbconvert_exporter": "python",
   "pygments_lexer": "ipython3",
   "version": "3.7.6"
  }
 },
 "nbformat": 4,
 "nbformat_minor": 4
}
