{
 "cells": [
  {
   "cell_type": "code",
   "execution_count": 1,
   "metadata": {},
   "outputs": [],
   "source": [
    "#Calculator:\n",
    "#I have created a calculator performing functionalities such as Addition, Substraction, Multiplication, Average."
   ]
  },
  {
   "cell_type": "code",
   "execution_count": 7,
   "metadata": {},
   "outputs": [
    {
     "data": {
      "text/plain": [
       "''"
      ]
     },
     "execution_count": 7,
     "metadata": {},
     "output_type": "execute_result"
    }
   ],
   "source": [
    "#Importing the necessary modules\n",
    "from tkinter import *\n",
    "import parser\n",
    "from math import factorial\n",
    "\n",
    "\n",
    "my_window = Tk()\n",
    "my_window.title('Calcii')"
   ]
  },
  {
   "cell_type": "code",
   "execution_count": 8,
   "metadata": {},
   "outputs": [],
   "source": [
    "#It keeps the track of current position on the input text field\n",
    "i = 0\n",
    "# Receives the digit as parameter and display it on the input field\n",
    "def get_variables(num):\n",
    "    global i\n",
    "    display.insert(i,num)\n",
    "    i+=1\n",
    "\n",
    "# Calculate function scans the string to evaluates and display it\n",
    "def calculate():\n",
    "    entire_string = display.get()\n",
    "    try:\n",
    "        a = parser.expr(entire_string).compile()\n",
    "        result = eval(a)\n",
    "        clear_all()\n",
    "        display.insert(0,result)\n",
    "    except Exception:\n",
    "        clear_all()\n",
    "        display.insert(0,\"Error\")"
   ]
  },
  {
   "cell_type": "code",
   "execution_count": 9,
   "metadata": {},
   "outputs": [],
   "source": [
    "# Function which takes operator as input and displays it on the input field\n",
    "def get_operation(operator):\n",
    "    global i\n",
    "    length = len(operator)\n",
    "    display.insert(i,operator)\n",
    "    i+=length\n",
    "\n",
    "#Function to clear the input field \n",
    "def clear_all():\n",
    "    display.delete(0,END)\n",
    "\n",
    "#Function which works like backspace\n",
    "def undo():\n",
    "    entire_string = display.get()\n",
    "    if len(entire_string):\n",
    "        new_string = entire_string[:-1]\n",
    "        clear_all()\n",
    "        display.insert(0,new_string)\n",
    "    else:\n",
    "        clear_all()\n",
    "        display.insert(0,\"Error\")\n",
    "\n",
    "#Function to calculate the factorial "
   ]
  },
  {
   "cell_type": "code",
   "execution_count": 10,
   "metadata": {},
   "outputs": [],
   "source": [
    "#Function to calculate the factorial and display it\n",
    "def fact():\n",
    "    entire_string = display.get()\n",
    "    try:\n",
    "        result = factorial(int(entire_string))\n",
    "        clear_all()\n",
    "        display.insert(0,result)\n",
    "    except Exception:\n",
    "        clear_all()\n",
    "        display.insert(0,\"Error\")\n"
   ]
  },
  {
   "cell_type": "code",
   "execution_count": 11,
   "metadata": {},
   "outputs": [],
   "source": [
    "#--------------------------------------UI Design ---------------------------------------------\n",
    "\n",
    "#adding the input field\n",
    "display = Entry(my_window)\n",
    "display.grid(row=1,columnspan=6,sticky=N+E+W+S)\n",
    " \n",
    "#Code to add buttons to the Calculator\n",
    "\n",
    "Button(my_window,text=\"1\",command = lambda :get_variables(1)).grid(row=2,column=0, sticky=N+S+E+W)\n",
    "Button(my_window,text=\" 2\",command = lambda :get_variables(2)).grid(row=2,column=1, sticky=N+S+E+W)\n",
    "Button(my_window,text=\" 3\",command = lambda :get_variables(3)).grid(row=2,column=2, sticky=N+S+E+W)\n",
    " \n",
    "Button(my_window,text=\"4\",command = lambda :get_variables(4)).grid(row=3,column=0, sticky=N+S+E+W)\n",
    "Button(my_window,text=\" 5\",command = lambda :get_variables(5)).grid(row=3,column=1, sticky=N+S+E+W)\n",
    "Button(my_window,text=\" 6\",command = lambda :get_variables(6)).grid(row=3,column=2, sticky=N+S+E+W)\n",
    " \n",
    "Button(my_window,text=\"7\",command = lambda :get_variables(7)).grid(row=4,column=0, sticky=N+S+E+W)\n",
    "Button(my_window,text=\" 8\",command = lambda :get_variables(8)).grid(row=4,column=1, sticky=N+S+E+W)\n",
    "Button(my_window,text=\" 9\",command = lambda :get_variables(9)).grid(row=4,column=2, sticky=N+S+E+W)\n",
    " \n",
    "#adding other buttons to the calculator\n",
    "Button(my_window,text=\"AC\",command=lambda :clear_all()).grid(row=5,column=0, sticky=N+S+E+W)\n",
    "Button(my_window,text=\" 0\",command = lambda :get_variables(0)).grid(row=5,column=1, sticky=N+S+E+W)\n",
    "Button(my_window,text=\" .\",command=lambda :get_variables(\".\")).grid(row=5, column=2, sticky=N+S+E+W)\n",
    " \n",
    "Button(my_window,text=\"+\",command= lambda :get_operation(\"+\")).grid(row=2,column=3, sticky=N+S+E+W)\n",
    "Button(my_window,text=\"-\",command= lambda :get_operation(\"-\")).grid(row=3,column=3, sticky=N+S+E+W)\n",
    "Button(my_window,text=\"*\",command= lambda :get_operation(\"*\")).grid(row=4,column=3, sticky=N+S+E+W)\n",
    "Button(my_window,text=\"/\",command= lambda :get_operation(\"/\")).grid(row=5,column=3, sticky=N+S+E+W)\n",
    " \n",
    "# adding new operations\n",
    "Button(my_window,text=\"pi\",command= lambda :get_operation(\"*3.14\")).grid(row=2,column=4, sticky=N+S+E+W)\n",
    "Button(my_window,text=\"%\",command= lambda :get_operation(\"%\")).grid(row=3,column=4, sticky=N+S+E+W)\n",
    "Button(my_window,text=\"(\",command= lambda :get_operation(\"(\")).grid(row=4,column=4, sticky=N+S+E+W)\n",
    "Button(my_window,text=\"exp\",command= lambda :get_operation(\"**\")).grid(row=5,column=4, sticky=N+S+E+W)\n",
    " \n",
    "Button(my_window,text=\"<-\",command= lambda :undo()).grid(row=2,column=5, sticky=N+S+E+W)\n",
    "Button(my_window,text=\"x!\", command= lambda: fact()).grid(row=3,column=5, sticky=N+S+E+W)\n",
    "Button(my_window,text=\")\",command= lambda :get_operation(\")\")).grid(row=4,column=5, sticky=N+S+E+W)\n",
    "Button(my_window,text=\"^2\",command= lambda :get_operation(\"**2\")).grid(row=5,column=5, sticky=N+S+E+W)\n",
    "Button(my_window,text=\"=\",command= lambda :calculate()).grid(columnspan=6, sticky=N+S+E+W)\n",
    "\n",
    " \n",
    "my_window.mainloop()\n"
   ]
  },
  {
   "cell_type": "code",
   "execution_count": null,
   "metadata": {},
   "outputs": [],
   "source": []
  },
  {
   "cell_type": "code",
   "execution_count": null,
   "metadata": {},
   "outputs": [],
   "source": []
  },
  {
   "cell_type": "code",
   "execution_count": null,
   "metadata": {},
   "outputs": [],
   "source": []
  }
 ],
 "metadata": {
  "kernelspec": {
   "display_name": "Python 3",
   "language": "python",
   "name": "python3"
  },
  "language_info": {
   "codemirror_mode": {
    "name": "ipython",
    "version": 3
   },
   "file_extension": ".py",
   "mimetype": "text/x-python",
   "name": "python",
   "nbconvert_exporter": "python",
   "pygments_lexer": "ipython3",
   "version": "3.7.6"
  }
 },
 "nbformat": 4,
 "nbformat_minor": 4
}
